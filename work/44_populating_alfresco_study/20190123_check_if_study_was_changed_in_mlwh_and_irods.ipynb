{
 "cells": [
  {
   "cell_type": "markdown",
   "metadata": {},
   "source": [
    "# Introduction\n",
    "See https://github.com/malariagen/fits/issues/44\n",
    "\n",
    "Here I am trying to determine whether changes made to study in SequenceScape has propagated through to mlwh and iRODS. The following were previously changed:\n",
    "- The following were moved from 1195-PF-TRAC2-DONDORP to 1180-PF-TRAC2-DONDORP in sequencescape:\n",
    "  -  RCN03610\n",
    "  -  RCN06860\n",
    "  -  RCN06881\n",
    "  -  RCN06893\n",
    "  -  RCN06911\n",
    "- Study IHTP_1131-PF-BN-BERTIN was changed to 1131-PF-BJ-BERTIN"
   ]
  },
  {
   "cell_type": "code",
   "execution_count": 1,
   "metadata": {},
   "outputs": [
    {
     "data": {
      "text/html": [
       "<style type=\"text/css\">\n",
       ".container {\n",
       "    width: 100%;\n",
       "}\n",
       "# div#notebook {\n",
       "#     padding-top: 1em;\n",
       "# }\n",
       "# #header-container {\n",
       "#     display: none;\n",
       "# }\n",
       "# #header-bar {\n",
       "#     display: none;\n",
       "# }\n",
       "# #maintoolbar {\n",
       "#     display: none;\n",
       "# }\n",
       "# #menubar-container {\n",
       "#     position: fixed;\n",
       "#     margin-top: 0;\n",
       "# }\n",
       "site {\n",
       "    height: auto !important;\n",
       "}\n",
       "</style>\n"
      ],
      "text/plain": [
       "<IPython.core.display.HTML object>"
      ]
     },
     "metadata": {},
     "output_type": "display_data"
    },
    {
     "name": "stdout",
     "output_type": "stream",
     "text": [
      "python 3.6.8 |Anaconda, Inc.| (default, Dec 30 2018, 01:22:34) \n",
      "[GCC 7.3.0]\n",
      "numpy 1.15.4\n",
      "scipy 1.1.0\n",
      "pandas 0.23.4\n",
      "numexpr 2.6.8\n",
      "pysam 0.15.2\n",
      "pysamstats 1.1.2\n",
      "petlx 1.0.3\n",
      "vcf 0.6.8\n",
      "h5py 2.8.0\n",
      "tables 3.4.4\n",
      "zarr 2.2.1.dev126\n",
      "scikit-allel 1.2.0\n"
     ]
    }
   ],
   "source": [
    "%run ../setup.ipynb"
   ]
  },
  {
   "cell_type": "code",
   "execution_count": 2,
   "metadata": {},
   "outputs": [],
   "source": [
    "mlwh_conn = MySQLdb.connect(host='mlwh-db', port=3435, user='mlwh_malaria', passwd='Solaris&2015', db='mlwarehouse')"
   ]
  },
  {
   "cell_type": "markdown",
   "metadata": {},
   "source": [
    "# Check if samples were moved from 1195-PF-TRAC2-DONDORP to 1180-PF-TRAC2-DONDORP"
   ]
  },
  {
   "cell_type": "code",
   "execution_count": 3,
   "metadata": {},
   "outputs": [
    {
     "name": "stdout",
     "output_type": "stream",
     "text": [
      "(5, 6)\n"
     ]
    },
    {
     "data": {
      "text/html": [
       "<div>\n",
       "<style scoped>\n",
       "    .dataframe tbody tr th:only-of-type {\n",
       "        vertical-align: middle;\n",
       "    }\n",
       "\n",
       "    .dataframe tbody tr th {\n",
       "        vertical-align: top;\n",
       "    }\n",
       "\n",
       "    .dataframe thead th {\n",
       "        text-align: right;\n",
       "    }\n",
       "</style>\n",
       "<table border=\"1\" class=\"dataframe\">\n",
       "  <thead>\n",
       "    <tr style=\"text-align: right;\">\n",
       "      <th></th>\n",
       "      <th>study_name</th>\n",
       "      <th>study_lims</th>\n",
       "      <th>sample</th>\n",
       "      <th>id_run</th>\n",
       "      <th>position</th>\n",
       "      <th>tag_index</th>\n",
       "    </tr>\n",
       "  </thead>\n",
       "  <tbody>\n",
       "    <tr>\n",
       "      <th>0</th>\n",
       "      <td>1195-PF-TRAC2_DONDORP</td>\n",
       "      <td>4531</td>\n",
       "      <td>RCN03610</td>\n",
       "      <td>23117</td>\n",
       "      <td>8</td>\n",
       "      <td>9</td>\n",
       "    </tr>\n",
       "    <tr>\n",
       "      <th>1</th>\n",
       "      <td>1195-PF-TRAC2_DONDORP</td>\n",
       "      <td>4531</td>\n",
       "      <td>RCN06860</td>\n",
       "      <td>23117</td>\n",
       "      <td>8</td>\n",
       "      <td>12</td>\n",
       "    </tr>\n",
       "    <tr>\n",
       "      <th>2</th>\n",
       "      <td>1195-PF-TRAC2_DONDORP</td>\n",
       "      <td>4531</td>\n",
       "      <td>RCN06881</td>\n",
       "      <td>23117</td>\n",
       "      <td>8</td>\n",
       "      <td>15</td>\n",
       "    </tr>\n",
       "    <tr>\n",
       "      <th>3</th>\n",
       "      <td>1195-PF-TRAC2_DONDORP</td>\n",
       "      <td>4531</td>\n",
       "      <td>RCN06893</td>\n",
       "      <td>23117</td>\n",
       "      <td>8</td>\n",
       "      <td>19</td>\n",
       "    </tr>\n",
       "    <tr>\n",
       "      <th>4</th>\n",
       "      <td>1195-PF-TRAC2_DONDORP</td>\n",
       "      <td>4531</td>\n",
       "      <td>RCN06911</td>\n",
       "      <td>23117</td>\n",
       "      <td>8</td>\n",
       "      <td>23</td>\n",
       "    </tr>\n",
       "  </tbody>\n",
       "</table>\n",
       "</div>"
      ],
      "text/plain": [
       "              study_name study_lims    sample  id_run  position  tag_index\n",
       "0  1195-PF-TRAC2_DONDORP       4531  RCN03610   23117         8          9\n",
       "1  1195-PF-TRAC2_DONDORP       4531  RCN06860   23117         8         12\n",
       "2  1195-PF-TRAC2_DONDORP       4531  RCN06881   23117         8         15\n",
       "3  1195-PF-TRAC2_DONDORP       4531  RCN06893   23117         8         19\n",
       "4  1195-PF-TRAC2_DONDORP       4531  RCN06911   23117         8         23"
      ]
     },
     "execution_count": 3,
     "metadata": {},
     "output_type": "execute_result"
    }
   ],
   "source": [
    "sql_query = 'SELECT \\\n",
    "        study.name as study_name, \\\n",
    "        study.id_study_lims as study_lims, \\\n",
    "        sample.supplier_name as sample, \\\n",
    "        iseq_product_metrics.id_run, \\\n",
    "        iseq_product_metrics.position, \\\n",
    "        iseq_product_metrics.tag_index \\\n",
    "    FROM \\\n",
    "        study, \\\n",
    "        iseq_flowcell, \\\n",
    "        sample, \\\n",
    "        iseq_product_metrics \\\n",
    "    WHERE \\\n",
    "        study.id_study_tmp = iseq_flowcell.id_study_tmp and \\\n",
    "        iseq_flowcell.id_sample_tmp = sample.id_sample_tmp and \\\n",
    "        iseq_flowcell.manual_qc = 1 and \\\n",
    "        iseq_product_metrics.id_iseq_flowcell_tmp = iseq_flowcell.id_iseq_flowcell_tmp and \\\n",
    "        sample.supplier_name in (\"RCN03610\", \"RCN06860\", \"RCN06881\", \"RCN06893\", \"RCN06911\"); \\\n",
    "'\n",
    "\n",
    "df_trac2 = pd.read_sql(sql_query, con=mlwh_conn)    \n",
    "print(df_trac2.shape)\n",
    "df_trac2"
   ]
  },
  {
   "cell_type": "code",
   "execution_count": 4,
   "metadata": {},
   "outputs": [
    {
     "name": "stdout",
     "output_type": "stream",
     "text": [
      "attribute: study\r\n",
      "value: 1195-PF-TRAC2_DONDORP\r\n"
     ]
    }
   ],
   "source": [
    "!imeta ls -d /seq/23117/23117_8#9.cram | grep -A 1 'attribute: study$'"
   ]
  },
  {
   "cell_type": "code",
   "execution_count": 5,
   "metadata": {},
   "outputs": [
    {
     "name": "stdout",
     "output_type": "stream",
     "text": [
      "(1, 40)\n"
     ]
    },
    {
     "data": {
      "text/html": [
       "<div>\n",
       "<style scoped>\n",
       "    .dataframe tbody tr th:only-of-type {\n",
       "        vertical-align: middle;\n",
       "    }\n",
       "\n",
       "    .dataframe tbody tr th {\n",
       "        vertical-align: top;\n",
       "    }\n",
       "\n",
       "    .dataframe thead th {\n",
       "        text-align: right;\n",
       "    }\n",
       "</style>\n",
       "<table border=\"1\" class=\"dataframe\">\n",
       "  <thead>\n",
       "    <tr style=\"text-align: right;\">\n",
       "      <th></th>\n",
       "      <th>id_study_tmp</th>\n",
       "      <th>id_lims</th>\n",
       "      <th>uuid_study_lims</th>\n",
       "      <th>id_study_lims</th>\n",
       "      <th>last_updated</th>\n",
       "      <th>recorded_at</th>\n",
       "      <th>deleted_at</th>\n",
       "      <th>created</th>\n",
       "      <th>name</th>\n",
       "      <th>reference_genome</th>\n",
       "      <th>...</th>\n",
       "      <th>data_release_delay_reason</th>\n",
       "      <th>remove_x_and_autosomes</th>\n",
       "      <th>aligned</th>\n",
       "      <th>separate_y_chromosome_data</th>\n",
       "      <th>data_access_group</th>\n",
       "      <th>prelim_id</th>\n",
       "      <th>hmdmc_number</th>\n",
       "      <th>data_destination</th>\n",
       "      <th>s3_email_list</th>\n",
       "      <th>data_deletion_period</th>\n",
       "    </tr>\n",
       "  </thead>\n",
       "  <tbody>\n",
       "    <tr>\n",
       "      <th>0</th>\n",
       "      <td>4487</td>\n",
       "      <td>SQSCP</td>\n",
       "      <td>1158db20-c088-11e6-bf8a-68b59976a384</td>\n",
       "      <td>4531</td>\n",
       "      <td>2018-08-22 14:41:11</td>\n",
       "      <td>2018-08-22 14:41:11</td>\n",
       "      <td>None</td>\n",
       "      <td>2016-12-12 16:28:52</td>\n",
       "      <td>1195-PF-TRAC2_DONDORP</td>\n",
       "      <td>Plasmodium_falciparum (3D7_Jan16v3)</td>\n",
       "      <td>...</td>\n",
       "      <td>None</td>\n",
       "      <td>0</td>\n",
       "      <td>1</td>\n",
       "      <td>0</td>\n",
       "      <td>None</td>\n",
       "      <td>None</td>\n",
       "      <td>None</td>\n",
       "      <td>None</td>\n",
       "      <td>None</td>\n",
       "      <td>None</td>\n",
       "    </tr>\n",
       "  </tbody>\n",
       "</table>\n",
       "<p>1 rows × 40 columns</p>\n",
       "</div>"
      ],
      "text/plain": [
       "   id_study_tmp id_lims                       uuid_study_lims id_study_lims  \\\n",
       "0          4487   SQSCP  1158db20-c088-11e6-bf8a-68b59976a384          4531   \n",
       "\n",
       "         last_updated         recorded_at deleted_at             created  \\\n",
       "0 2018-08-22 14:41:11 2018-08-22 14:41:11       None 2016-12-12 16:28:52   \n",
       "\n",
       "                    name                     reference_genome  \\\n",
       "0  1195-PF-TRAC2_DONDORP  Plasmodium_falciparum (3D7_Jan16v3)   \n",
       "\n",
       "           ...          data_release_delay_reason remove_x_and_autosomes  \\\n",
       "0          ...                               None                      0   \n",
       "\n",
       "  aligned separate_y_chromosome_data data_access_group prelim_id hmdmc_number  \\\n",
       "0       1                          0              None      None         None   \n",
       "\n",
       "  data_destination  s3_email_list  data_deletion_period  \n",
       "0             None           None                  None  \n",
       "\n",
       "[1 rows x 40 columns]"
      ]
     },
     "execution_count": 5,
     "metadata": {},
     "output_type": "execute_result"
    }
   ],
   "source": [
    "sql_query = 'SELECT * from study where study.name like \"%1195%\"'\n",
    "\n",
    "df_1195 = pd.read_sql(sql_query, con=mlwh_conn)    \n",
    "print(df_1195.shape)\n",
    "df_1195"
   ]
  },
  {
   "cell_type": "markdown",
   "metadata": {},
   "source": [
    "# Check if samples were moved from IHTP_1131-PF-BN-BERTIN to 1131-PF-BJ-BERTIN"
   ]
  },
  {
   "cell_type": "code",
   "execution_count": 6,
   "metadata": {},
   "outputs": [
    {
     "name": "stdout",
     "output_type": "stream",
     "text": [
      "(2, 40)\n"
     ]
    },
    {
     "data": {
      "text/html": [
       "<div>\n",
       "<style scoped>\n",
       "    .dataframe tbody tr th:only-of-type {\n",
       "        vertical-align: middle;\n",
       "    }\n",
       "\n",
       "    .dataframe tbody tr th {\n",
       "        vertical-align: top;\n",
       "    }\n",
       "\n",
       "    .dataframe thead th {\n",
       "        text-align: right;\n",
       "    }\n",
       "</style>\n",
       "<table border=\"1\" class=\"dataframe\">\n",
       "  <thead>\n",
       "    <tr style=\"text-align: right;\">\n",
       "      <th></th>\n",
       "      <th>id_study_tmp</th>\n",
       "      <th>id_lims</th>\n",
       "      <th>uuid_study_lims</th>\n",
       "      <th>id_study_lims</th>\n",
       "      <th>last_updated</th>\n",
       "      <th>recorded_at</th>\n",
       "      <th>deleted_at</th>\n",
       "      <th>created</th>\n",
       "      <th>name</th>\n",
       "      <th>reference_genome</th>\n",
       "      <th>...</th>\n",
       "      <th>data_release_delay_reason</th>\n",
       "      <th>remove_x_and_autosomes</th>\n",
       "      <th>aligned</th>\n",
       "      <th>separate_y_chromosome_data</th>\n",
       "      <th>data_access_group</th>\n",
       "      <th>prelim_id</th>\n",
       "      <th>hmdmc_number</th>\n",
       "      <th>data_destination</th>\n",
       "      <th>s3_email_list</th>\n",
       "      <th>data_deletion_period</th>\n",
       "    </tr>\n",
       "  </thead>\n",
       "  <tbody>\n",
       "    <tr>\n",
       "      <th>0</th>\n",
       "      <td>2567</td>\n",
       "      <td>SQSCP</td>\n",
       "      <td>62da6cf0-a6cb-11e2-8985-68b59976a382</td>\n",
       "      <td>2598</td>\n",
       "      <td>2017-05-11 12:32:00</td>\n",
       "      <td>2017-05-11 12:32:00</td>\n",
       "      <td>None</td>\n",
       "      <td>2013-04-16 19:25:24</td>\n",
       "      <td>ILC 1131 Nosocomial Klebsiella pneumoniae with...</td>\n",
       "      <td>Klebsiella_pneumoniae (KCTC_2242)</td>\n",
       "      <td>...</td>\n",
       "      <td>None</td>\n",
       "      <td>0</td>\n",
       "      <td>1</td>\n",
       "      <td>0</td>\n",
       "      <td>None</td>\n",
       "      <td>None</td>\n",
       "      <td>None</td>\n",
       "      <td>None</td>\n",
       "      <td>None</td>\n",
       "      <td>None</td>\n",
       "    </tr>\n",
       "    <tr>\n",
       "      <th>1</th>\n",
       "      <td>3365</td>\n",
       "      <td>SQSCP</td>\n",
       "      <td>0dd36ab0-6c20-11e4-8102-68b59976a382</td>\n",
       "      <td>3398</td>\n",
       "      <td>2019-01-14 16:06:28</td>\n",
       "      <td>2019-01-14 16:06:28</td>\n",
       "      <td>None</td>\n",
       "      <td>2014-11-14 17:02:45</td>\n",
       "      <td>1131-PF-BJ-BERTIN</td>\n",
       "      <td>Plasmodium_falciparum (3D7_Jan16v3)</td>\n",
       "      <td>...</td>\n",
       "      <td>None</td>\n",
       "      <td>0</td>\n",
       "      <td>1</td>\n",
       "      <td>0</td>\n",
       "      <td>None</td>\n",
       "      <td>None</td>\n",
       "      <td>None</td>\n",
       "      <td>None</td>\n",
       "      <td>None</td>\n",
       "      <td>None</td>\n",
       "    </tr>\n",
       "  </tbody>\n",
       "</table>\n",
       "<p>2 rows × 40 columns</p>\n",
       "</div>"
      ],
      "text/plain": [
       "   id_study_tmp id_lims                       uuid_study_lims id_study_lims  \\\n",
       "0          2567   SQSCP  62da6cf0-a6cb-11e2-8985-68b59976a382          2598   \n",
       "1          3365   SQSCP  0dd36ab0-6c20-11e4-8102-68b59976a382          3398   \n",
       "\n",
       "         last_updated         recorded_at deleted_at             created  \\\n",
       "0 2017-05-11 12:32:00 2017-05-11 12:32:00       None 2013-04-16 19:25:24   \n",
       "1 2019-01-14 16:06:28 2019-01-14 16:06:28       None 2014-11-14 17:02:45   \n",
       "\n",
       "                                                name  \\\n",
       "0  ILC 1131 Nosocomial Klebsiella pneumoniae with...   \n",
       "1                                  1131-PF-BJ-BERTIN   \n",
       "\n",
       "                      reference_genome          ...           \\\n",
       "0    Klebsiella_pneumoniae (KCTC_2242)          ...            \n",
       "1  Plasmodium_falciparum (3D7_Jan16v3)          ...            \n",
       "\n",
       "  data_release_delay_reason remove_x_and_autosomes aligned  \\\n",
       "0                      None                      0       1   \n",
       "1                      None                      0       1   \n",
       "\n",
       "  separate_y_chromosome_data data_access_group prelim_id hmdmc_number  \\\n",
       "0                          0              None      None         None   \n",
       "1                          0              None      None         None   \n",
       "\n",
       "  data_destination  s3_email_list  data_deletion_period  \n",
       "0             None           None                  None  \n",
       "1             None           None                  None  \n",
       "\n",
       "[2 rows x 40 columns]"
      ]
     },
     "execution_count": 6,
     "metadata": {},
     "output_type": "execute_result"
    }
   ],
   "source": [
    "sql_query = 'SELECT * from study where study.name like \"%1131%\"'\n",
    "\n",
    "df_1131 = pd.read_sql(sql_query, con=mlwh_conn)    \n",
    "print(df_1131.shape)\n",
    "df_1131"
   ]
  },
  {
   "cell_type": "code",
   "execution_count": 7,
   "metadata": {},
   "outputs": [
    {
     "name": "stdout",
     "output_type": "stream",
     "text": [
      "(420, 6)\n"
     ]
    },
    {
     "data": {
      "text/html": [
       "<div>\n",
       "<style scoped>\n",
       "    .dataframe tbody tr th:only-of-type {\n",
       "        vertical-align: middle;\n",
       "    }\n",
       "\n",
       "    .dataframe tbody tr th {\n",
       "        vertical-align: top;\n",
       "    }\n",
       "\n",
       "    .dataframe thead th {\n",
       "        text-align: right;\n",
       "    }\n",
       "</style>\n",
       "<table border=\"1\" class=\"dataframe\">\n",
       "  <thead>\n",
       "    <tr style=\"text-align: right;\">\n",
       "      <th></th>\n",
       "      <th>study_name</th>\n",
       "      <th>study_lims</th>\n",
       "      <th>sample</th>\n",
       "      <th>id_run</th>\n",
       "      <th>position</th>\n",
       "      <th>tag_index</th>\n",
       "    </tr>\n",
       "  </thead>\n",
       "  <tbody>\n",
       "    <tr>\n",
       "      <th>0</th>\n",
       "      <td>1131-PF-BJ-BERTIN</td>\n",
       "      <td>3398</td>\n",
       "      <td>QT0001-C</td>\n",
       "      <td>15966</td>\n",
       "      <td>1</td>\n",
       "      <td>1</td>\n",
       "    </tr>\n",
       "    <tr>\n",
       "      <th>1</th>\n",
       "      <td>1131-PF-BJ-BERTIN</td>\n",
       "      <td>3398</td>\n",
       "      <td>QT0002-C</td>\n",
       "      <td>15966</td>\n",
       "      <td>1</td>\n",
       "      <td>2</td>\n",
       "    </tr>\n",
       "    <tr>\n",
       "      <th>2</th>\n",
       "      <td>1131-PF-BJ-BERTIN</td>\n",
       "      <td>3398</td>\n",
       "      <td>QT0004-C</td>\n",
       "      <td>15966</td>\n",
       "      <td>1</td>\n",
       "      <td>3</td>\n",
       "    </tr>\n",
       "    <tr>\n",
       "      <th>3</th>\n",
       "      <td>1131-PF-BJ-BERTIN</td>\n",
       "      <td>3398</td>\n",
       "      <td>QT0005-C</td>\n",
       "      <td>15966</td>\n",
       "      <td>1</td>\n",
       "      <td>4</td>\n",
       "    </tr>\n",
       "    <tr>\n",
       "      <th>4</th>\n",
       "      <td>1131-PF-BJ-BERTIN</td>\n",
       "      <td>3398</td>\n",
       "      <td>QT0005-CW</td>\n",
       "      <td>15966</td>\n",
       "      <td>1</td>\n",
       "      <td>5</td>\n",
       "    </tr>\n",
       "  </tbody>\n",
       "</table>\n",
       "</div>"
      ],
      "text/plain": [
       "          study_name study_lims     sample  id_run  position  tag_index\n",
       "0  1131-PF-BJ-BERTIN       3398   QT0001-C   15966         1          1\n",
       "1  1131-PF-BJ-BERTIN       3398   QT0002-C   15966         1          2\n",
       "2  1131-PF-BJ-BERTIN       3398   QT0004-C   15966         1          3\n",
       "3  1131-PF-BJ-BERTIN       3398   QT0005-C   15966         1          4\n",
       "4  1131-PF-BJ-BERTIN       3398  QT0005-CW   15966         1          5"
      ]
     },
     "execution_count": 7,
     "metadata": {},
     "output_type": "execute_result"
    }
   ],
   "source": [
    "sql_query = 'SELECT \\\n",
    "        study.name as study_name, \\\n",
    "        study.id_study_lims as study_lims, \\\n",
    "        sample.supplier_name as sample, \\\n",
    "        iseq_product_metrics.id_run, \\\n",
    "        iseq_product_metrics.position, \\\n",
    "        iseq_product_metrics.tag_index \\\n",
    "    FROM \\\n",
    "        study, \\\n",
    "        iseq_flowcell, \\\n",
    "        sample, \\\n",
    "        iseq_product_metrics \\\n",
    "    WHERE \\\n",
    "        study.id_study_tmp = iseq_flowcell.id_study_tmp and \\\n",
    "        iseq_flowcell.id_sample_tmp = sample.id_sample_tmp and \\\n",
    "        iseq_flowcell.manual_qc = 1 and \\\n",
    "        iseq_product_metrics.id_iseq_flowcell_tmp = iseq_flowcell.id_iseq_flowcell_tmp and \\\n",
    "        study.name = \"1131-PF-BJ-BERTIN\"; \\\n",
    "'\n",
    "\n",
    "df_trac2 = pd.read_sql(sql_query, con=mlwh_conn)    \n",
    "print(df_trac2.shape)\n",
    "df_trac2.head()"
   ]
  },
  {
   "cell_type": "code",
   "execution_count": 8,
   "metadata": {
    "scrolled": true
   },
   "outputs": [
    {
     "data": {
      "text/html": [
       "<div>\n",
       "<style scoped>\n",
       "    .dataframe tbody tr th:only-of-type {\n",
       "        vertical-align: middle;\n",
       "    }\n",
       "\n",
       "    .dataframe tbody tr th {\n",
       "        vertical-align: top;\n",
       "    }\n",
       "\n",
       "    .dataframe thead th {\n",
       "        text-align: right;\n",
       "    }\n",
       "</style>\n",
       "<table border=\"1\" class=\"dataframe\">\n",
       "  <thead>\n",
       "    <tr style=\"text-align: right;\">\n",
       "      <th></th>\n",
       "      <th>study_name</th>\n",
       "      <th>study_lims</th>\n",
       "      <th>sample</th>\n",
       "      <th>id_run</th>\n",
       "      <th>position</th>\n",
       "      <th>tag_index</th>\n",
       "    </tr>\n",
       "  </thead>\n",
       "  <tbody>\n",
       "    <tr>\n",
       "      <th>415</th>\n",
       "      <td>1131-PF-BJ-BERTIN</td>\n",
       "      <td>3398</td>\n",
       "      <td>SPT16783</td>\n",
       "      <td>23720</td>\n",
       "      <td>8</td>\n",
       "      <td>18</td>\n",
       "    </tr>\n",
       "    <tr>\n",
       "      <th>416</th>\n",
       "      <td>1131-PF-BJ-BERTIN</td>\n",
       "      <td>3398</td>\n",
       "      <td>SPT16768</td>\n",
       "      <td>23720</td>\n",
       "      <td>8</td>\n",
       "      <td>19</td>\n",
       "    </tr>\n",
       "    <tr>\n",
       "      <th>417</th>\n",
       "      <td>1131-PF-BJ-BERTIN</td>\n",
       "      <td>3398</td>\n",
       "      <td>SPT16776</td>\n",
       "      <td>23720</td>\n",
       "      <td>8</td>\n",
       "      <td>20</td>\n",
       "    </tr>\n",
       "    <tr>\n",
       "      <th>418</th>\n",
       "      <td>1131-PF-BJ-BERTIN</td>\n",
       "      <td>3398</td>\n",
       "      <td>SPT16769</td>\n",
       "      <td>23720</td>\n",
       "      <td>8</td>\n",
       "      <td>21</td>\n",
       "    </tr>\n",
       "    <tr>\n",
       "      <th>419</th>\n",
       "      <td>1131-PF-BJ-BERTIN</td>\n",
       "      <td>3398</td>\n",
       "      <td>SPT16777</td>\n",
       "      <td>23720</td>\n",
       "      <td>8</td>\n",
       "      <td>22</td>\n",
       "    </tr>\n",
       "  </tbody>\n",
       "</table>\n",
       "</div>"
      ],
      "text/plain": [
       "            study_name study_lims    sample  id_run  position  tag_index\n",
       "415  1131-PF-BJ-BERTIN       3398  SPT16783   23720         8         18\n",
       "416  1131-PF-BJ-BERTIN       3398  SPT16768   23720         8         19\n",
       "417  1131-PF-BJ-BERTIN       3398  SPT16776   23720         8         20\n",
       "418  1131-PF-BJ-BERTIN       3398  SPT16769   23720         8         21\n",
       "419  1131-PF-BJ-BERTIN       3398  SPT16777   23720         8         22"
      ]
     },
     "execution_count": 8,
     "metadata": {},
     "output_type": "execute_result"
    }
   ],
   "source": [
    "df_trac2.tail()"
   ]
  },
  {
   "cell_type": "code",
   "execution_count": 9,
   "metadata": {},
   "outputs": [
    {
     "name": "stdout",
     "output_type": "stream",
     "text": [
      "attribute: study\r\n",
      "value: 1131-PF-BJ-BERTIN\r\n"
     ]
    }
   ],
   "source": [
    "!imeta ls -d /seq/15966/15966_1#1.cram | grep -A 1 'attribute: study$'"
   ]
  },
  {
   "cell_type": "code",
   "execution_count": 10,
   "metadata": {},
   "outputs": [
    {
     "name": "stdout",
     "output_type": "stream",
     "text": [
      "/lustre/scratch118/malaria/team112/pipelines/setups/pf_62/input/23027_5#1.cram\t1131-PF-BJ-BERTIN\tSPT16777\t23027_5#1\t2929816\t1\t/seq/23027/23027_5#1.cram\t3398STDY6950148\t5833\t3398\tIHTP_1131-PF-BN-BERTIN\t23027\t5\t1.0\t2017-07-18 12:54:37\t1.0\tqc complete\tHX1\tHiSeqX\t150\t450.0\t450.0\t98.95\t23027_5#1.cram\t197117638.0\tERR2094526\t\r\n",
      "/lustre/scratch118/malaria/team112/pipelines/setups/pf_62/input/23720_8#22.cram\t1131-PF-BJ-BERTIN\tSPT16777\t23720_8#22\t3765878\t1\t/seq/23720/23720_8#22.cram\t3398STDY6950148\t5833\t3398\tIHTP_1131-PF-BN-BERTIN\t23720\t8\t22.0\t2017-09-18 12:01:42\t1.0\tqc complete\tHX8\tHiSeqX\t150\t450.0\t450.0\t97.44\t23720_8#22.cram\t251321129.0\tERR2193441\t\r\n"
     ]
    }
   ],
   "source": [
    "# What study was this assigned to in Pf 6.2?\n",
    "!grep SPT16777 /nfs/team112_internal/production_files/Pf/6_2/pf_62_irods_manifest_20181023.txt"
   ]
  },
  {
   "cell_type": "markdown",
   "metadata": {},
   "source": [
    "# Conclusion\n",
    "After Sonia requested core to correct study name from IHTP_1131-PF-BN-BERTIN to 1131-PF-BJ-BERTIN, it seems that files had the study name changed correctly in both mlwh and iRODS.\n",
    "\n",
    "Sonia has earlier requested that 5 samples were moved from study 1195-PF-TRAC2-DONDORP to study 1180-PF-TRAC2-DONDORP. These changes don't appear to have propagated through, but this might be because the original study name was actually 1195-PF-TRAC2_DONDORP (note the underscore rather than hyphen before DONDORP)."
   ]
  },
  {
   "cell_type": "code",
   "execution_count": null,
   "metadata": {},
   "outputs": [],
   "source": []
  }
 ],
 "metadata": {
  "kernelspec": {
   "display_name": "Python 3",
   "language": "python",
   "name": "python3"
  },
  "language_info": {
   "codemirror_mode": {
    "name": "ipython",
    "version": 3
   },
   "file_extension": ".py",
   "mimetype": "text/x-python",
   "name": "python",
   "nbconvert_exporter": "python",
   "pygments_lexer": "ipython3",
   "version": "3.6.8"
  }
 },
 "nbformat": 4,
 "nbformat_minor": 2
}
