{
 "cells": [
  {
   "cell_type": "markdown",
   "metadata": {},
   "source": [
    "# Introduction\n",
    "This originally came about through https://github.com/malariagen/parasite-ops/issues/41. After creating the relevant code for this (https://github.com/malariagen/parasite-ops/blob/master/work/41_ENA_accessions_for_803xGB4_cross/20181130_ENA_accessions_for_803xGB4_cross.ipynb) using my previous method of querying mlwh directly, I decided to see if I could recreate the results using FITS. This revealed some discrepancies (see Conclusions at end of this notebook).\n"
   ]
  },
  {
   "cell_type": "code",
   "execution_count": 1,
   "metadata": {
    "collapsed": false
   },
   "outputs": [
    {
     "data": {
      "text/html": [
       "<style type=\"text/css\">\n",
       ".container {\n",
       "    width: 100%;\n",
       "}\n",
       "# div#notebook {\n",
       "#     padding-top: 1em;\n",
       "# }\n",
       "# #header-container {\n",
       "#     display: none;\n",
       "# }\n",
       "# #header-bar {\n",
       "#     display: none;\n",
       "# }\n",
       "# #maintoolbar {\n",
       "#     display: none;\n",
       "# }\n",
       "# #menubar-container {\n",
       "#     position: fixed;\n",
       "#     margin-top: 0;\n",
       "# }\n",
       "site {\n",
       "    height: auto !important;\n",
       "}\n",
       "</style>"
      ],
      "text/plain": [
       "<IPython.core.display.HTML object>"
      ]
     },
     "metadata": {},
     "output_type": "display_data"
    },
    {
     "name": "stdout",
     "output_type": "stream",
     "text": [
      "python 3.5.2 |Continuum Analytics, Inc.| (default, Jul  2 2016, 17:53:06) \n",
      "[GCC 4.4.7 20120313 (Red Hat 4.4.7-1)]\n",
      "numpy 1.13.3\n",
      "scipy 0.19.1\n",
      "pandas 0.22.0\n",
      "numexpr 2.6.4\n",
      "pysam 0.8.4\n",
      "pysamstats 0.24.3\n",
      "petlx 1.0.3\n",
      "vcf 0.6.8\n",
      "h5py 2.7.0\n",
      "tables 3.4.2\n",
      "zarr 2.2.0\n",
      "scikit-allel 1.1.10\n"
     ]
    }
   ],
   "source": [
    "%run ../setup.ipynb\n",
    "import pymysql"
   ]
  },
  {
   "cell_type": "code",
   "execution_count": 2,
   "metadata": {
    "collapsed": false
   },
   "outputs": [],
   "source": [
    "# Inputs\n",
    "mlwh_missing_exceptions_fn = '/nfs/team112_internal/rp7/src/github/malariagen/SIMS/meta/mlwh/mlwh_missing_exceptions.txt'\n",
    "mlwh_study_exceptions_fn = '/nfs/team112_internal/rp7/src/github/malariagen/SIMS/meta/mlwh/mlwh_study_exceptions.txt'\n",
    "mlwh_sample_exceptions_fn = '/nfs/team112_internal/rp7/src/github/malariagen/SIMS/meta/mlwh/mlwh_sample_exceptions.txt'\n",
    "mlwh_taxon_exceptions_fn = '/nfs/team112_internal/rp7/src/github/malariagen/SIMS/meta/mlwh/mlwh_taxon_exceptions.txt'\n",
    "sequencescape_alfresco_study_mappings_fn='/nfs/team112_internal/rp7/src/github/malariagen/SIMS/meta/mlwh/sequencescape_alfresco_study_mappings.txt'\n",
    "\n",
    "input_dir = 'placeholder'\n"
   ]
  },
  {
   "cell_type": "markdown",
   "metadata": {},
   "source": [
    "# Find files for MalariaGEN Pf samples"
   ]
  },
  {
   "cell_type": "code",
   "execution_count": 3,
   "metadata": {
    "collapsed": false
   },
   "outputs": [],
   "source": [
    "def set_irods_name(row):\n",
    "    # First calculate prefix using nonhuman dependent on id_run and species (taxon)\n",
    "    # Then calculate tag string (empty string if no tag)\n",
    "    # Then calculate file extension\n",
    "    # Then concat these three strings\n",
    "    if (\n",
    "        (row['taxon_id'] in [7165, 7173, 30066, 62324]) & # Anopheles gambiae, arabiensis, merus and funestus respectively\n",
    "        (row['id_run'] <= 6750)\n",
    "    ):\n",
    "        prefix = \"%d_%d_nonhuman\" % (row['id_run'], row['position'])\n",
    "    elif (\n",
    "        ~(row['taxon_id'] in [7165, 7173, 30066, 62324]) & # Anopheles gambiae, arabiensis, merus and funestus respectively\n",
    "        (row['id_run'] <= 7100)\n",
    "    ):\n",
    "        prefix = \"%d_%d_nonhuman\" % (row['id_run'], row['position'])\n",
    "    else:\n",
    "        prefix = \"%d_%d\" % (row['id_run'], row['position'])\n",
    "        \n",
    "    if np.isnan(row['tag_index']):\n",
    "        tag_string = ''\n",
    "    else:\n",
    "        tag_string = '#%d' % row['tag_index']\n",
    "    \n",
    "    if row['id_run'] <= 10300:\n",
    "        file_extension = '.bam'\n",
    "    else:\n",
    "        file_extension = '.cram'\n",
    "    \n",
    "    irods_filename = prefix + tag_string + file_extension\n",
    "    return(irods_filename)\n",
    "\n",
    "def set_sample_id(row):\n",
    "    if row['sample'] is None:\n",
    "        return('DS_%s' % row['name'])\n",
    "    else:\n",
    "        return('DS_%s' % row['sample'])\n",
    "\n",
    "def is_valid_alfresco_code(s):\n",
    "    try: \n",
    "        int(s[0:4])\n",
    "        return True\n",
    "    except ValueError:\n",
    "        return False\n",
    "\n",
    "def create_build_manifest(\n",
    "#     taxon_ids=[5833, 5855, 5858, 5821, 7165, 7173, 30066], # Pf, Pv, Pm, Pb, Ag, A. arabiensis, A. merus\n",
    "    taxon_ids=[5833, 36329, 5847, 57267, 137071], # Pf, 3D7, V1, Dd2, HB3\n",
    "    # 1089 is excluded as this is R&D samples. 1204 and 1176 are excluded as these are CP1 samples. 1175 is excluded as some Pf R&D samples were incorrectly tagged with this study. 1157 is a Pv study - there are two suspected Pf samples in this study, but we need further investigation, and possible study change both in ROMA and in Sequencescape/mlwh/ENA/iRODS before we can include\n",
    "    studies_to_exclude = ['1089-R&amp;D-GB-ALCOCK', '1204-PF-GM-CP1', '1176-PF-KE-CP1', '1175-VO-KH-STLAURENT', '1157-PV-MULTI-PRICE'],\n",
    "    miseq_runs_to_allow = [13809, 13810], # Two Miseq runs within 24 samples on each from study 1095-PF-TZ-ISHENGOMA that were included in Pf 6.0\n",
    "    input_dir = input_dir,\n",
    "    mlwh_missing_exceptions_fn = mlwh_missing_exceptions_fn,\n",
    "    mlwh_study_exceptions_fn = mlwh_study_exceptions_fn,\n",
    "    mlwh_sample_exceptions_fn = mlwh_sample_exceptions_fn,\n",
    "    mlwh_taxon_exceptions_fn = mlwh_taxon_exceptions_fn,\n",
    "    sequencescape_alfresco_study_mappings_fn = sequencescape_alfresco_study_mappings_fn,\n",
    "    output_columns = [\n",
    "        'path',\n",
    "        'study',\n",
    "        'sample',\n",
    "        'lane',\n",
    "        'reads',\n",
    "        'paired',\n",
    "        'irods_path',\n",
    "        'sanger_sample_id',\n",
    "        'taxon_id',\n",
    "        'study_lims',\n",
    "        'study_name',\n",
    "        'id_run',\n",
    "        'position',\n",
    "        'tag_index',\n",
    "        'qc_complete',\n",
    "        'manual_qc',\n",
    "        'description',\n",
    "        'instrument_name',\n",
    "        'instrument_model',\n",
    "        'forward_read_length',\n",
    "        'requested_insert_size_from',\n",
    "        'requested_insert_size_to',\n",
    "        'human_percent_mapped',\n",
    "        'subtrack_filename',\n",
    "        'subtrack_files_bytes',\n",
    "        'ebi_run_acc',\n",
    "        'ebi_sample_acc',\n",
    "    ]\n",
    "):\n",
    "    \"\"\"Create a DataFrame to be used as a build manifest.\n",
    "    \n",
    "    A build manifest here is a list of all the \"lanelets\" that need to be\n",
    "    included in a build. The output will typically be written to a\n",
    "    tab-delmited file, either to use as input to vr-pipe, or perhaps as\n",
    "    input to a vr-track DB.\n",
    "\n",
    "    Args:\n",
    "        taxon_ids (list of int): The taxons of the build (P. falciparum is '5833',\n",
    "            P. vivax is '5855').\n",
    "        sequencescape_alfresco_study_mappings_fn (str): filename of\n",
    "            mappings from sequencscape to alfresco study mappings\n",
    "\n",
    "    Returns:\n",
    "        pd.DataFrame: The build manifest.\n",
    "\n",
    "    \"\"\"\n",
    "    \n",
    "    # Read in taxon exceptions file\n",
    "    df_mlwh_taxon_exceptions = pd.read_csv(mlwh_taxon_exceptions_fn, sep='\\t', dtype={'tag_index': str, 'taxon_id': int}, index_col='irods_filename')\n",
    "    df_mlwh_taxon_exceptions['tag_index'].fillna('', inplace=True)\n",
    "    # Identify which samples in exceptions file match the taxon of current build, and which don't\n",
    "    df_mlwh_exceptions_this_taxon = df_mlwh_taxon_exceptions.loc[df_mlwh_taxon_exceptions['taxon_id'].isin(taxon_ids)]\n",
    "    df_mlwh_exceptions_other_taxa = df_mlwh_taxon_exceptions.loc[~(df_mlwh_taxon_exceptions['taxon_id'].isin(taxon_ids))]\n",
    "\n",
    "    # Read in sample exceptions file\n",
    "    df_mlwh_sample_exceptions = pd.read_csv(mlwh_sample_exceptions_fn, sep='\\t', index_col='irods_filename')\n",
    "\n",
    "    # Read in study exceptions file\n",
    "    df_mlwh_study_exceptions = pd.read_csv(mlwh_study_exceptions_fn, sep='\\t', index_col='irods_filename')\n",
    "\n",
    "    # Read in missing exceptions file\n",
    "    df_mlwh_missing_exceptions = pd.read_csv(mlwh_missing_exceptions_fn, sep='\\t', index_col='irods_filename')\n",
    "    df_mlwh_missing_exceptions['derivative_sample_id'] = 'DS_' + df_mlwh_missing_exceptions['sample_id']\n",
    "    df_mlwh_missing_exceptions = df_mlwh_missing_exceptions.loc[\n",
    "        df_mlwh_missing_exceptions['taxon_id'].isin(taxon_ids)\n",
    "    ]\n",
    "\n",
    "    # Read in SequenceScape-Alfresco study mappings\n",
    "    df_sequencescape_alfresco_study_mappings = pd.read_csv(sequencescape_alfresco_study_mappings_fn, sep='\\t', index_col='seqscape_study_id')\n",
    "    sequencescape_alfresco_study_mappings_dict = df_sequencescape_alfresco_study_mappings.loc[\n",
    "        :,\n",
    "#         df_sequencescape_alfresco_study_mappings['build_flag']==1,\n",
    "        'alfresco_study_code'\n",
    "    ].to_dict()\n",
    "    \n",
    "    # Read in data from mlwh matching this taxon, plus samples from exceptions file matching this taxon\n",
    "    conn = pymysql.connect(\n",
    "        host='mlwh-db',\n",
    "        user='mlwh_malaria',\n",
    "        password='Solaris&2015',\n",
    "        db='mlwarehouse',\n",
    "        port=3435\n",
    "    )\n",
    "    \n",
    "    sql_query = 'SELECT \\\n",
    "        study.name as study_name, \\\n",
    "        study.id_study_lims as study_lims, \\\n",
    "        sample.supplier_name as sample, \\\n",
    "        sample.name, \\\n",
    "        sample.sanger_sample_id, \\\n",
    "        sample.taxon_id, \\\n",
    "        iseq_product_metrics.id_run, \\\n",
    "        iseq_product_metrics.position, \\\n",
    "        iseq_product_metrics.tag_index, \\\n",
    "        iseq_product_metrics.num_reads, \\\n",
    "        iseq_product_metrics.human_percent_mapped, \\\n",
    "        iseq_run_lane_metrics.instrument_name, \\\n",
    "        iseq_run_lane_metrics.instrument_model, \\\n",
    "        iseq_run_lane_metrics.paired_read, \\\n",
    "        iseq_run_lane_metrics.qc_complete, \\\n",
    "        iseq_flowcell.manual_qc, \\\n",
    "        iseq_flowcell.requested_insert_size_from, \\\n",
    "        iseq_flowcell.requested_insert_size_to, \\\n",
    "        iseq_flowcell.forward_read_length, \\\n",
    "        iseq_run_status_dict.description \\\n",
    "    FROM \\\n",
    "        study, \\\n",
    "        iseq_flowcell, \\\n",
    "        sample, \\\n",
    "        iseq_product_metrics, \\\n",
    "        iseq_run_status, \\\n",
    "        iseq_run_lane_metrics, \\\n",
    "        iseq_run_status_dict \\\n",
    "    WHERE \\\n",
    "        study.id_study_tmp = iseq_flowcell.id_study_tmp and \\\n",
    "        iseq_flowcell.id_sample_tmp = sample.id_sample_tmp and \\\n",
    "        iseq_flowcell.manual_qc = 1 and \\\n",
    "        iseq_product_metrics.id_iseq_flowcell_tmp = iseq_flowcell.id_iseq_flowcell_tmp and \\\n",
    "        iseq_run_status.id_run = iseq_product_metrics.id_run and \\\n",
    "        iseq_product_metrics.id_run = iseq_run_lane_metrics.id_run and \\\n",
    "        iseq_product_metrics.position = iseq_run_lane_metrics.position and \\\n",
    "        iseq_run_status.iscurrent = 1 and \\\n",
    "        ( ( iseq_run_lane_metrics.instrument_model != \"MiSeq\" ) or (iseq_product_metrics.id_run in (%s)) ) and \\\n",
    "        iseq_run_status.id_run_status_dict = iseq_run_status_dict.id_run_status_dict and \\\n",
    "        study.faculty_sponsor = \"Dominic Kwiatkowski\" and \\\n",
    "        ( ( sample.taxon_id in (%s) ) or ' % (\n",
    "            ', '.join([str(x) for x in miseq_runs_to_allow]),\n",
    "            ', '.join([str(x) for x in taxon_ids])\n",
    "        )\n",
    "    sql_query = sql_query + ' or '.join(\n",
    "        df_mlwh_taxon_exceptions.loc[df_mlwh_taxon_exceptions['taxon_id'].isin(taxon_ids)].apply(\n",
    "            lambda x: '(iseq_product_metrics.id_run=\"%s\" and iseq_product_metrics.position=\"%s\" and iseq_product_metrics.tag_index=\"%s\")' % (x['id_run'], x['position'], x['tag_index']),\n",
    "            1\n",
    "        )\n",
    "    )\n",
    "    sql_query = sql_query + ')'\n",
    "#         (iseq_flowcell.manual_qc = 1 or iseq_flowcell.manual_qc is null) and \\\n",
    "    \n",
    "    df_return = pd.read_sql(sql_query, conn)\n",
    "\n",
    "    # Replace missing taxon_id with -1 (can't have missing int values in pandas Series)\n",
    "    df_return['taxon_id'] = df_return['taxon_id'].fillna(-1).astype('int32')\n",
    "\n",
    "    # Determine file name in iRods\n",
    "    df_return['irods_filename'] = df_return.apply(set_irods_name, 1)\n",
    "    df_return.set_index('irods_filename', inplace=True)\n",
    "\n",
    "    # Determine alfresco study and change any incorrect studies\n",
    "    df_return['alfresco_study_code'] = df_return['study_lims'].apply(\n",
    "        lambda x: sequencescape_alfresco_study_mappings_dict[int(x)] if int(x) in sequencescape_alfresco_study_mappings_dict else ''\n",
    "    )\n",
    "    empty_alfresco_study_code = (df_return['alfresco_study_code'] == '')\n",
    "    df_return.loc[empty_alfresco_study_code, 'alfresco_study_code'] = df_return.loc[empty_alfresco_study_code, 'study_name']\n",
    "    \n",
    "    study_exception_indexes = df_mlwh_study_exceptions.index[\n",
    "        df_mlwh_study_exceptions.index.isin(df_return.index)\n",
    "    ]\n",
    "    df_return.loc[study_exception_indexes, 'alfresco_study_code'] = df_mlwh_study_exceptions.loc[study_exception_indexes, 'alfresco_study_code']\n",
    "\n",
    "    # Change any incorrect taxon IDs\n",
    "    taxon_exception_indexes = df_mlwh_exceptions_this_taxon.index[\n",
    "        df_mlwh_exceptions_this_taxon.index.to_series().isin(df_return.index)\n",
    "    ]\n",
    "    df_return.loc[taxon_exception_indexes, 'taxon_id'] = df_mlwh_exceptions_this_taxon.loc[taxon_exception_indexes, 'taxon_id']\n",
    "\n",
    "    # Determine sample ID and change any incorrect sample IDs\n",
    "    df_return['derivative_sample_id'] = df_return.apply(set_sample_id, 1)\n",
    "    sample_exception_indexes = df_mlwh_sample_exceptions.index[\n",
    "        df_mlwh_sample_exceptions.index.isin(df_return.index)\n",
    "    ]    \n",
    "    df_return.loc[sample_exception_indexes, 'derivative_sample_id'] = 'DS_' + df_mlwh_sample_exceptions.loc[sample_exception_indexes, 'sample_id']\n",
    "    df_return.drop(['sample', 'name'], axis=1, inplace=True)\n",
    "    \n",
    "    # Remove any samples that are not in this taxon\n",
    "    df_return = df_return.loc[~df_return.index.isin(df_mlwh_exceptions_other_taxa.index)]\n",
    "    \n",
    "    # Merge in missing exceptions\n",
    "    df_return = df_return.append(df_mlwh_missing_exceptions.drop('study_group', 1))\n",
    "    \n",
    "    # Remove any samples that don't have an alfresco study\n",
    "    invalid_codes = ~df_return['alfresco_study_code'].apply(is_valid_alfresco_code)\n",
    "    if(np.count_nonzero(invalid_codes) > 0):\n",
    "        print('Removing %d files with invalid alfresco_study_code:' % np.count_nonzero(invalid_codes))\n",
    "        print(df_return['alfresco_study_code'].loc[invalid_codes].value_counts())\n",
    "        df_return = df_return.loc[~invalid_codes]\n",
    "\n",
    "    # Determine filename in subtrack (for very old samples, there is only a .srf file in subtrack)\n",
    "    # Note we determined the id_run cutoff (5750) for bam/srf after looking at previous runs. There seems\n",
    "    # to be a grey area between runs 5500 and 5750 where some files are srf and some are bam\n",
    "    df_return['subtrack_filename'] = df_return.index\n",
    "    df_return.loc[df_return['id_run'] < 5750, 'subtrack_filename'] = df_return.loc[df_return['id_run'] < 5750, 'subtrack_filename'].apply(lambda x: x.replace('.bam', '.srf'))\n",
    "    \n",
    "    # Read in data from substrack, most importantly to get run accessions\n",
    "    sql_query = \"\\\n",
    "    SELECT \\\n",
    "        files.file_name as irods_filename, \\\n",
    "        files.bytes as subtrack_files_bytes, \\\n",
    "        files.timestamp as subtrack_files_timestamp, \\\n",
    "        files.public_date as subtrack_files_public_date, \\\n",
    "        submission.id as subtrack_submission_id, \\\n",
    "        submission.created as subtrack_submission_created, \\\n",
    "        submission.release_date as subtrack_submission_release_date, \\\n",
    "        submission.timestamp as subtrack_submission_timestamp, \\\n",
    "        submission.ext_db as subtrack_submission_ext_db, \\\n",
    "        submission.ebi_sample_acc, \\\n",
    "        submission.ebi_exp_acc, \\\n",
    "        submission.ebi_study_acc, \\\n",
    "        submission.ebi_sub_acc, \\\n",
    "        submission.ebi_run_acc \\\n",
    "    FROM \\\n",
    "        submission, \\\n",
    "        files \\\n",
    "    WHERE \\\n",
    "        files.sub_id = submission.id AND \\\n",
    "        files.file_name in (%s)\\\n",
    "    \" % (\"'\" + \"', '\".join(df_return['subtrack_filename']) + \"'\")\n",
    "\n",
    "    conn= pymysql.connect(\n",
    "        host='shap',\n",
    "        user='ega_dataset',\n",
    "        password='ega_dataset',\n",
    "        db='subtrack',\n",
    "        port=3303\n",
    "    )\n",
    "\n",
    "    df_run_accessions = pd.read_sql(sql_query, conn).set_index('irods_filename')\n",
    "    \n",
    "    # Merge in subtrack data\n",
    "    df_return = df_return.join(df_run_accessions, on='subtrack_filename', how='left')\n",
    "\n",
    "    # Remove unwanted studies\n",
    "    df_return = df_return.loc[~df_return['alfresco_study_code'].isin(studies_to_exclude)]\n",
    "\n",
    "    # Create other columns\n",
    "    df_return.rename(columns={'alfresco_study_code': 'study', 'paired_read': 'paired'}, inplace=True)\n",
    "    df_return['lane'] = df_return.index.to_series().apply(lambda x: x.split('.')[0])\n",
    "    df_return['path'] = df_return.apply(lambda x: \"%s/%s\" % (input_dir, x.name), 1)\n",
    "    df_return['reads'] = df_return['num_reads'].fillna(-1).astype(int)\n",
    "    df_return['irods_path'] = df_return.apply(lambda x: \"/seq/%d/%s\" % (x['id_run'], x.name), 1)\n",
    "    df_return['sample'] = df_return['derivative_sample_id'].str.replace('DS_', '')\n",
    "\n",
    "    # Remove lanes with zero reads\n",
    "    df_return = df_return.loc[df_return['reads'] != 0]\n",
    "    \n",
    "    # Remove control samples (see emails from Sonia 03/05/2018 12:20 and from Richard 09/10/2018 13:26)\n",
    "#     df_return = df_return.loc[df_return['sample'].str.slice(0, 1) != 'C']\n",
    "    df_return = df_return.loc[(df_return['sample'].str.slice(0, 1) != 'C') & (df_return['sample'] != 'control')]\n",
    "    \n",
    "    # Restrict to certain columns\n",
    "    if output_columns is not None:\n",
    "        df_return = (\n",
    "            df_return[output_columns]\n",
    "            .sort_values(['study', 'sample', 'id_run', 'position', 'tag_index'])\n",
    "        )\n",
    "    \n",
    "    print(df_return.shape)\n",
    "\n",
    "    return(df_return) \n"
   ]
  },
  {
   "cell_type": "code",
   "execution_count": 4,
   "metadata": {
    "collapsed": false
   },
   "outputs": [
    {
     "name": "stdout",
     "output_type": "stream",
     "text": [
      "Removing 63 files with invalid alfresco_study_code:\n",
      "AT-rich amplification                                 53\n",
      "Test sequencing of high level human contamination.     6\n",
      "Plasmodium falciparum genome variation 1               4\n",
      "Name: alfresco_study_code, dtype: int64\n"
     ]
    },
    {
     "name": "stderr",
     "output_type": "stream",
     "text": [
      "/nfs/users/nfs_r/rp7/miniconda3/envs/biipy/lib/python3.5/site-packages/pymysql/cursors.py:166: Warning: (3170, \"Memory capacity of 8388608 bytes for 'range_optimizer_max_mem_size' exceeded. Range optimization was not done for this query.\")\n",
      "  result = self._query(query)\n"
     ]
    },
    {
     "name": "stdout",
     "output_type": "stream",
     "text": [
      "(18130, 27)\n"
     ]
    }
   ],
   "source": [
    "df_assay_data = create_build_manifest()"
   ]
  },
  {
   "cell_type": "markdown",
   "metadata": {},
   "source": [
    "# Create file of 1126-PF-LAB-FAIRHURST samples"
   ]
  },
  {
   "cell_type": "code",
   "execution_count": 5,
   "metadata": {
    "collapsed": false
   },
   "outputs": [
    {
     "name": "stdout",
     "output_type": "stream",
     "text": [
      "(60, 3)\n"
     ]
    },
    {
     "data": {
      "text/html": [
       "<div>\n",
       "<style scoped>\n",
       "    .dataframe tbody tr th:only-of-type {\n",
       "        vertical-align: middle;\n",
       "    }\n",
       "\n",
       "    .dataframe tbody tr th {\n",
       "        vertical-align: top;\n",
       "    }\n",
       "\n",
       "    .dataframe thead th {\n",
       "        text-align: right;\n",
       "    }\n",
       "</style>\n",
       "<table border=\"1\" class=\"dataframe\">\n",
       "  <thead>\n",
       "    <tr style=\"text-align: right;\">\n",
       "      <th></th>\n",
       "      <th>sample</th>\n",
       "      <th>ebi_run_acc</th>\n",
       "      <th>ebi_sample_acc</th>\n",
       "    </tr>\n",
       "    <tr>\n",
       "      <th>irods_filename</th>\n",
       "      <th></th>\n",
       "      <th></th>\n",
       "      <th></th>\n",
       "    </tr>\n",
       "  </thead>\n",
       "  <tbody>\n",
       "    <tr>\n",
       "      <th>12876_2#9.cram</th>\n",
       "      <td>PG0050-CX2</td>\n",
       "      <td>ERR570014</td>\n",
       "      <td>ERS427908</td>\n",
       "    </tr>\n",
       "    <tr>\n",
       "      <th>15795_3#21.cram</th>\n",
       "      <td>PG0106-Cx</td>\n",
       "      <td>ERR905471</td>\n",
       "      <td>ERS639326</td>\n",
       "    </tr>\n",
       "    <tr>\n",
       "      <th>12876_2#1.cram</th>\n",
       "      <td>PG0443-C</td>\n",
       "      <td>ERR570006</td>\n",
       "      <td>ERS427900</td>\n",
       "    </tr>\n",
       "  </tbody>\n",
       "</table>\n",
       "</div>"
      ],
      "text/plain": [
       "                     sample ebi_run_acc ebi_sample_acc\n",
       "irods_filename                                        \n",
       "12876_2#9.cram   PG0050-CX2   ERR570014      ERS427908\n",
       "15795_3#21.cram   PG0106-Cx   ERR905471      ERS639326\n",
       "12876_2#1.cram     PG0443-C   ERR570006      ERS427900"
      ]
     },
     "execution_count": 5,
     "metadata": {},
     "output_type": "execute_result"
    }
   ],
   "source": [
    "df_1126 = (\n",
    "    df_assay_data\n",
    "    .loc[df_assay_data['study'] == '1126-PF-LAB-FAIRHURST']\n",
    "    [['sample', 'ebi_run_acc', 'ebi_sample_acc']]\n",
    ")\n",
    "print(df_1126.shape)\n",
    "df_1126[0:3]"
   ]
  },
  {
   "cell_type": "markdown",
   "metadata": {},
   "source": [
    "# Attempt to do the same with FITS"
   ]
  },
  {
   "cell_type": "code",
   "execution_count": 6,
   "metadata": {
    "collapsed": false
   },
   "outputs": [
    {
     "name": "stdout",
     "output_type": "stream",
     "text": [
      "(68, 5)\n"
     ]
    },
    {
     "data": {
      "text/html": [
       "<div>\n",
       "<style scoped>\n",
       "    .dataframe tbody tr th:only-of-type {\n",
       "        vertical-align: middle;\n",
       "    }\n",
       "\n",
       "    .dataframe tbody tr th {\n",
       "        vertical-align: top;\n",
       "    }\n",
       "\n",
       "    .dataframe thead th {\n",
       "        text-align: right;\n",
       "    }\n",
       "</style>\n",
       "<table border=\"1\" class=\"dataframe\">\n",
       "  <thead>\n",
       "    <tr style=\"text-align: right;\">\n",
       "      <th></th>\n",
       "      <th>file_full_path</th>\n",
       "      <th>study_name</th>\n",
       "      <th>oxford_code</th>\n",
       "      <th>ebi_run_acc</th>\n",
       "      <th>ebi_sample_acc</th>\n",
       "    </tr>\n",
       "    <tr>\n",
       "      <th>irods_filename</th>\n",
       "      <th></th>\n",
       "      <th></th>\n",
       "      <th></th>\n",
       "      <th></th>\n",
       "      <th></th>\n",
       "    </tr>\n",
       "  </thead>\n",
       "  <tbody>\n",
       "    <tr>\n",
       "      <th>12876_2#3.cram</th>\n",
       "      <td>/seq/12876/12876_2#3.cram</td>\n",
       "      <td>ILB_1126-PF-LAB-FAIRHURST</td>\n",
       "      <td>PG0466-C</td>\n",
       "      <td>ERR570008</td>\n",
       "      <td>None</td>\n",
       "    </tr>\n",
       "    <tr>\n",
       "      <th>13566_3#19.cram</th>\n",
       "      <td>/seq/13566/13566_3#19.cram</td>\n",
       "      <td>ILB_1126-PF-LAB-FAIRHURST</td>\n",
       "      <td>PG0453-C</td>\n",
       "      <td>ERR656298</td>\n",
       "      <td>None</td>\n",
       "    </tr>\n",
       "    <tr>\n",
       "      <th>15795_3#19.cram</th>\n",
       "      <td>/seq/15795/15795_3#19.cram</td>\n",
       "      <td>ILB_1126-PF-LAB-FAIRHURST</td>\n",
       "      <td>PG0509-C</td>\n",
       "      <td>ERR905469</td>\n",
       "      <td>None</td>\n",
       "    </tr>\n",
       "  </tbody>\n",
       "</table>\n",
       "</div>"
      ],
      "text/plain": [
       "                             file_full_path                 study_name  \\\n",
       "irods_filename                                                           \n",
       "12876_2#3.cram    /seq/12876/12876_2#3.cram  ILB_1126-PF-LAB-FAIRHURST   \n",
       "13566_3#19.cram  /seq/13566/13566_3#19.cram  ILB_1126-PF-LAB-FAIRHURST   \n",
       "15795_3#19.cram  /seq/15795/15795_3#19.cram  ILB_1126-PF-LAB-FAIRHURST   \n",
       "\n",
       "                oxford_code ebi_run_acc ebi_sample_acc  \n",
       "irods_filename                                          \n",
       "12876_2#3.cram     PG0466-C   ERR570008           None  \n",
       "13566_3#19.cram    PG0453-C   ERR656298           None  \n",
       "15795_3#19.cram    PG0509-C   ERR905469           None  "
      ]
     },
     "execution_count": 6,
     "metadata": {},
     "output_type": "execute_result"
    }
   ],
   "source": [
    "conn = pymysql.connect(\n",
    "    host='malloc-db',\n",
    "    user='solaris_ro',\n",
    "    db='mm6_fits',\n",
    "    port=3309\n",
    ")\n",
    "\n",
    "sql_query = '''\n",
    "SELECT # The main SELECT statement\n",
    "    # List of columns to return for each file\n",
    "    (SELECT full_path FROM file WHERE file.id=sample2file.file_id) AS file_full_path, # The full path of the file\n",
    "    (SELECT `value` FROM sample2tag WHERE sample2file.sample_id=sample2tag.sample_id AND tag_id=3594 LIMIT 1) AS `study_name`, # Sequenscape study name\n",
    "    (SELECT value FROM sample2tag WHERE sample2tag.sample_id=sample2file.sample_id AND tag_id=3561 LIMIT 1) AS oxford_code, # The Oxford code of the sample; note the \"LIMIT 1\" to ensure only one value!\n",
    "    (SELECT `value` FROM file2tag WHERE sample2file.file_id=file2tag.file_id AND tag_id=3602 LIMIT 1) AS `ebi_run_acc`,\n",
    "    (SELECT `value` FROM file2tag WHERE sample2file.file_id=file2tag.file_id AND tag_id=3587 LIMIT 1) AS `ebi_sample_acc`\n",
    "FROM sample2file # The \"backbone table\" of the query\n",
    "WHERE sample_id IN (SELECT DISTINCT sample_id FROM sample2tag WHERE tag_id=3600 AND value IN (5833,36329,5847,57267,137071)) # Get all P falciparum samples\n",
    "AND NOT EXISTS (SELECT * FROM file WHERE file.id=file_id AND (full_path LIKE \"%phix%\" OR full_path LIKE \"%\\_human%\") ) # Exclude phiX/human\n",
    "AND NOT EXISTS (SELECT * FROM file2tag WHERE sample2file.file_id=file2tag.file_id AND tag_id=8 AND `value`='0') # Exclude zero-size files, where file size is set\n",
    "AND file_id IN (SELECT file_id FROM file2tag WHERE tag_id=3576 AND value IN ('bam','cram')) # Only BAM or CRAM\n",
    "AND file_id NOT IN (SELECT parent FROM file_relation WHERE relation=3595) # Only one of multiple data files (e.g. BAM and CRAM with identical data)\n",
    "AND file_id NOT IN (SELECT DISTINCT file_id FROM file2tag WHERE tag_id=3592 AND `value`='GBS') # Exclude genotyping-by-sequencing files\n",
    "AND file_id NOT IN (SELECT DISTINCT file_id FROM file2tag WHERE tag_id=3577 AND `value`='0') # Exclude files with zero reads\n",
    "AND file_id NOT IN (SELECT DISTINCT file_id FROM file2tag WHERE tag_id=3581 AND `value`='0') # Exclude manual_qc 0\n",
    "HAVING\n",
    "    `study_name` LIKE \"%1126%\"\n",
    ";\n",
    "'''\n",
    "\n",
    "df_fits = pd.read_sql(sql_query, conn)\n",
    "df_fits['irods_filename'] = df_fits['file_full_path'].apply(lambda x: x.split('/')[-1])\n",
    "df_fits.set_index('irods_filename', inplace=True)\n",
    "print(df_fits.shape)\n",
    "df_fits[0:3]"
   ]
  },
  {
   "cell_type": "code",
   "execution_count": 7,
   "metadata": {
    "collapsed": false
   },
   "outputs": [
    {
     "data": {
      "text/plain": [
       "60"
      ]
     },
     "execution_count": 7,
     "metadata": {},
     "output_type": "execute_result"
    }
   ],
   "source": [
    "# The following shows that 68 files have only 60 unqiue ox codes\n",
    "len(df_fits['oxford_code'].unique())"
   ]
  },
  {
   "cell_type": "markdown",
   "metadata": {},
   "source": [
    "# Sanity check we get the same information from both queries when irods_filename matches"
   ]
  },
  {
   "cell_type": "code",
   "execution_count": 8,
   "metadata": {
    "collapsed": false
   },
   "outputs": [
    {
     "name": "stdout",
     "output_type": "stream",
     "text": [
      "(60, 8)\n"
     ]
    },
    {
     "data": {
      "text/html": [
       "<div>\n",
       "<style scoped>\n",
       "    .dataframe tbody tr th:only-of-type {\n",
       "        vertical-align: middle;\n",
       "    }\n",
       "\n",
       "    .dataframe tbody tr th {\n",
       "        vertical-align: top;\n",
       "    }\n",
       "\n",
       "    .dataframe thead th {\n",
       "        text-align: right;\n",
       "    }\n",
       "</style>\n",
       "<table border=\"1\" class=\"dataframe\">\n",
       "  <thead>\n",
       "    <tr style=\"text-align: right;\">\n",
       "      <th></th>\n",
       "      <th>sample</th>\n",
       "      <th>ebi_run_acc</th>\n",
       "      <th>ebi_sample_acc</th>\n",
       "      <th>file_full_path</th>\n",
       "      <th>study_name</th>\n",
       "      <th>oxford_code</th>\n",
       "      <th>ebi_run_acc_fits</th>\n",
       "      <th>ebi_sample_acc_fits</th>\n",
       "    </tr>\n",
       "    <tr>\n",
       "      <th>irods_filename</th>\n",
       "      <th></th>\n",
       "      <th></th>\n",
       "      <th></th>\n",
       "      <th></th>\n",
       "      <th></th>\n",
       "      <th></th>\n",
       "      <th></th>\n",
       "      <th></th>\n",
       "    </tr>\n",
       "  </thead>\n",
       "  <tbody>\n",
       "    <tr>\n",
       "      <th>12876_2#9.cram</th>\n",
       "      <td>PG0050-CX2</td>\n",
       "      <td>ERR570014</td>\n",
       "      <td>ERS427908</td>\n",
       "      <td>/seq/12876/12876_2#9.cram</td>\n",
       "      <td>ILB_1126-PF-LAB-FAIRHURST</td>\n",
       "      <td>PG0050-CX2</td>\n",
       "      <td>ERR570014</td>\n",
       "      <td>None</td>\n",
       "    </tr>\n",
       "    <tr>\n",
       "      <th>15795_3#21.cram</th>\n",
       "      <td>PG0106-Cx</td>\n",
       "      <td>ERR905471</td>\n",
       "      <td>ERS639326</td>\n",
       "      <td>/seq/15795/15795_3#21.cram</td>\n",
       "      <td>ILB_1126-PF-LAB-FAIRHURST</td>\n",
       "      <td>PG0106-Cx</td>\n",
       "      <td>ERR905471</td>\n",
       "      <td>None</td>\n",
       "    </tr>\n",
       "    <tr>\n",
       "      <th>12876_2#1.cram</th>\n",
       "      <td>PG0443-C</td>\n",
       "      <td>ERR570006</td>\n",
       "      <td>ERS427900</td>\n",
       "      <td>/seq/12876/12876_2#1.cram</td>\n",
       "      <td>ILB_1126-PF-LAB-FAIRHURST</td>\n",
       "      <td>PG0443-C</td>\n",
       "      <td>ERR570006</td>\n",
       "      <td>None</td>\n",
       "    </tr>\n",
       "  </tbody>\n",
       "</table>\n",
       "</div>"
      ],
      "text/plain": [
       "                     sample ebi_run_acc ebi_sample_acc  \\\n",
       "irods_filename                                           \n",
       "12876_2#9.cram   PG0050-CX2   ERR570014      ERS427908   \n",
       "15795_3#21.cram   PG0106-Cx   ERR905471      ERS639326   \n",
       "12876_2#1.cram     PG0443-C   ERR570006      ERS427900   \n",
       "\n",
       "                             file_full_path                 study_name  \\\n",
       "irods_filename                                                           \n",
       "12876_2#9.cram    /seq/12876/12876_2#9.cram  ILB_1126-PF-LAB-FAIRHURST   \n",
       "15795_3#21.cram  /seq/15795/15795_3#21.cram  ILB_1126-PF-LAB-FAIRHURST   \n",
       "12876_2#1.cram    /seq/12876/12876_2#1.cram  ILB_1126-PF-LAB-FAIRHURST   \n",
       "\n",
       "                oxford_code ebi_run_acc_fits ebi_sample_acc_fits  \n",
       "irods_filename                                                    \n",
       "12876_2#9.cram   PG0050-CX2        ERR570014                None  \n",
       "15795_3#21.cram   PG0106-Cx        ERR905471                None  \n",
       "12876_2#1.cram     PG0443-C        ERR570006                None  "
      ]
     },
     "execution_count": 8,
     "metadata": {},
     "output_type": "execute_result"
    }
   ],
   "source": [
    "df_join = df_1126.join(df_fits, rsuffix='_fits')\n",
    "print(df_join.shape)\n",
    "df_join[0:3]"
   ]
  },
  {
   "cell_type": "code",
   "execution_count": 9,
   "metadata": {
    "collapsed": false
   },
   "outputs": [
    {
     "data": {
      "text/plain": [
       "(60, 8)"
      ]
     },
     "execution_count": 9,
     "metadata": {},
     "output_type": "execute_result"
    }
   ],
   "source": [
    "df_join.loc[df_join['sample'] == df_join['oxford_code']].shape"
   ]
  },
  {
   "cell_type": "code",
   "execution_count": 10,
   "metadata": {
    "collapsed": false
   },
   "outputs": [
    {
     "data": {
      "text/plain": [
       "(60, 8)"
      ]
     },
     "execution_count": 10,
     "metadata": {},
     "output_type": "execute_result"
    }
   ],
   "source": [
    "df_join.loc[df_join['ebi_run_acc'] == df_join['ebi_run_acc_fits']].shape"
   ]
  },
  {
   "cell_type": "markdown",
   "metadata": {},
   "source": [
    "### Interim conclusion\n",
    "Where we have the same files, other metadata (sample ID and run accession) matches perfectly"
   ]
  },
  {
   "cell_type": "markdown",
   "metadata": {},
   "source": [
    "# Determine why we have multiple files for some samples"
   ]
  },
  {
   "cell_type": "code",
   "execution_count": 11,
   "metadata": {
    "collapsed": false
   },
   "outputs": [
    {
     "data": {
      "text/html": [
       "<div>\n",
       "<style scoped>\n",
       "    .dataframe tbody tr th:only-of-type {\n",
       "        vertical-align: middle;\n",
       "    }\n",
       "\n",
       "    .dataframe tbody tr th {\n",
       "        vertical-align: top;\n",
       "    }\n",
       "\n",
       "    .dataframe thead th {\n",
       "        text-align: right;\n",
       "    }\n",
       "</style>\n",
       "<table border=\"1\" class=\"dataframe\">\n",
       "  <thead>\n",
       "    <tr style=\"text-align: right;\">\n",
       "      <th></th>\n",
       "      <th>file_full_path</th>\n",
       "      <th>study_name</th>\n",
       "      <th>oxford_code</th>\n",
       "      <th>ebi_run_acc</th>\n",
       "      <th>ebi_sample_acc</th>\n",
       "    </tr>\n",
       "    <tr>\n",
       "      <th>irods_filename</th>\n",
       "      <th></th>\n",
       "      <th></th>\n",
       "      <th></th>\n",
       "      <th></th>\n",
       "      <th></th>\n",
       "    </tr>\n",
       "  </thead>\n",
       "  <tbody>\n",
       "    <tr>\n",
       "      <th>12876_4#27.cram</th>\n",
       "      <td>/seq/12876/12876_4#27.cram</td>\n",
       "      <td>ILB_1126-PF-LAB-FAIRHURST</td>\n",
       "      <td>PG0469-C</td>\n",
       "      <td>ERR570032</td>\n",
       "      <td>None</td>\n",
       "    </tr>\n",
       "    <tr>\n",
       "      <th>12876_4#28.cram</th>\n",
       "      <td>/seq/12876/12876_4#28.cram</td>\n",
       "      <td>ILB_1126-PF-LAB-FAIRHURST</td>\n",
       "      <td>PG0469-C</td>\n",
       "      <td>ERR570033</td>\n",
       "      <td>None</td>\n",
       "    </tr>\n",
       "    <tr>\n",
       "      <th>12876_2#2.cram</th>\n",
       "      <td>/seq/12876/12876_2#2.cram</td>\n",
       "      <td>ILB_1126-PF-LAB-FAIRHURST</td>\n",
       "      <td>PG0454-C</td>\n",
       "      <td>ERR570007</td>\n",
       "      <td>None</td>\n",
       "    </tr>\n",
       "    <tr>\n",
       "      <th>12876_3#13.cram</th>\n",
       "      <td>/seq/12876/12876_3#13.cram</td>\n",
       "      <td>ILB_1126-PF-LAB-FAIRHURST</td>\n",
       "      <td>PG0454-C</td>\n",
       "      <td>ERR570018</td>\n",
       "      <td>None</td>\n",
       "    </tr>\n",
       "    <tr>\n",
       "      <th>12876_4#33.cram</th>\n",
       "      <td>/seq/12876/12876_4#33.cram</td>\n",
       "      <td>ILB_1126-PF-LAB-FAIRHURST</td>\n",
       "      <td>PG0446-C</td>\n",
       "      <td>ERR570038</td>\n",
       "      <td>None</td>\n",
       "    </tr>\n",
       "    <tr>\n",
       "      <th>12876_2#5.cram</th>\n",
       "      <td>/seq/12876/12876_2#5.cram</td>\n",
       "      <td>ILB_1126-PF-LAB-FAIRHURST</td>\n",
       "      <td>PG0446-C</td>\n",
       "      <td>ERR570010</td>\n",
       "      <td>None</td>\n",
       "    </tr>\n",
       "    <tr>\n",
       "      <th>12876_2#10.cram</th>\n",
       "      <td>/seq/12876/12876_2#10.cram</td>\n",
       "      <td>ILB_1126-PF-LAB-FAIRHURST</td>\n",
       "      <td>PG0455-C</td>\n",
       "      <td>ERR570015</td>\n",
       "      <td>None</td>\n",
       "    </tr>\n",
       "    <tr>\n",
       "      <th>12876_3#14.cram</th>\n",
       "      <td>/seq/12876/12876_3#14.cram</td>\n",
       "      <td>ILB_1126-PF-LAB-FAIRHURST</td>\n",
       "      <td>PG0455-C</td>\n",
       "      <td>ERR570019</td>\n",
       "      <td>None</td>\n",
       "    </tr>\n",
       "    <tr>\n",
       "      <th>12876_4#26.cram</th>\n",
       "      <td>/seq/12876/12876_4#26.cram</td>\n",
       "      <td>ILB_1126-PF-LAB-FAIRHURST</td>\n",
       "      <td>PG0457-C</td>\n",
       "      <td>ERR570031</td>\n",
       "      <td>None</td>\n",
       "    </tr>\n",
       "    <tr>\n",
       "      <th>12876_3#16.cram</th>\n",
       "      <td>/seq/12876/12876_3#16.cram</td>\n",
       "      <td>ILB_1126-PF-LAB-FAIRHURST</td>\n",
       "      <td>PG0457-C</td>\n",
       "      <td>ERR570021</td>\n",
       "      <td>None</td>\n",
       "    </tr>\n",
       "    <tr>\n",
       "      <th>12876_4#35.cram</th>\n",
       "      <td>/seq/12876/12876_4#35.cram</td>\n",
       "      <td>ILB_1126-PF-LAB-FAIRHURST</td>\n",
       "      <td>PG0470-C</td>\n",
       "      <td>ERR570040</td>\n",
       "      <td>None</td>\n",
       "    </tr>\n",
       "    <tr>\n",
       "      <th>12876_4#29.cram</th>\n",
       "      <td>/seq/12876/12876_4#29.cram</td>\n",
       "      <td>ILB_1126-PF-LAB-FAIRHURST</td>\n",
       "      <td>PG0470-C</td>\n",
       "      <td>ERR570034</td>\n",
       "      <td>None</td>\n",
       "    </tr>\n",
       "    <tr>\n",
       "      <th>12876_3#18.cram</th>\n",
       "      <td>/seq/12876/12876_3#18.cram</td>\n",
       "      <td>ILB_1126-PF-LAB-FAIRHURST</td>\n",
       "      <td>PG0456-C</td>\n",
       "      <td>ERR570023</td>\n",
       "      <td>None</td>\n",
       "    </tr>\n",
       "    <tr>\n",
       "      <th>12876_3#15.cram</th>\n",
       "      <td>/seq/12876/12876_3#15.cram</td>\n",
       "      <td>ILB_1126-PF-LAB-FAIRHURST</td>\n",
       "      <td>PG0456-C</td>\n",
       "      <td>ERR570020</td>\n",
       "      <td>None</td>\n",
       "    </tr>\n",
       "    <tr>\n",
       "      <th>12876_4#25.cram</th>\n",
       "      <td>/seq/12876/12876_4#25.cram</td>\n",
       "      <td>ILB_1126-PF-LAB-FAIRHURST</td>\n",
       "      <td>PG0445-C</td>\n",
       "      <td>ERR570030</td>\n",
       "      <td>None</td>\n",
       "    </tr>\n",
       "    <tr>\n",
       "      <th>12876_2#4.cram</th>\n",
       "      <td>/seq/12876/12876_2#4.cram</td>\n",
       "      <td>ILB_1126-PF-LAB-FAIRHURST</td>\n",
       "      <td>PG0445-C</td>\n",
       "      <td>ERR570009</td>\n",
       "      <td>None</td>\n",
       "    </tr>\n",
       "  </tbody>\n",
       "</table>\n",
       "</div>"
      ],
      "text/plain": [
       "                             file_full_path                 study_name  \\\n",
       "irods_filename                                                           \n",
       "12876_4#27.cram  /seq/12876/12876_4#27.cram  ILB_1126-PF-LAB-FAIRHURST   \n",
       "12876_4#28.cram  /seq/12876/12876_4#28.cram  ILB_1126-PF-LAB-FAIRHURST   \n",
       "12876_2#2.cram    /seq/12876/12876_2#2.cram  ILB_1126-PF-LAB-FAIRHURST   \n",
       "12876_3#13.cram  /seq/12876/12876_3#13.cram  ILB_1126-PF-LAB-FAIRHURST   \n",
       "12876_4#33.cram  /seq/12876/12876_4#33.cram  ILB_1126-PF-LAB-FAIRHURST   \n",
       "12876_2#5.cram    /seq/12876/12876_2#5.cram  ILB_1126-PF-LAB-FAIRHURST   \n",
       "12876_2#10.cram  /seq/12876/12876_2#10.cram  ILB_1126-PF-LAB-FAIRHURST   \n",
       "12876_3#14.cram  /seq/12876/12876_3#14.cram  ILB_1126-PF-LAB-FAIRHURST   \n",
       "12876_4#26.cram  /seq/12876/12876_4#26.cram  ILB_1126-PF-LAB-FAIRHURST   \n",
       "12876_3#16.cram  /seq/12876/12876_3#16.cram  ILB_1126-PF-LAB-FAIRHURST   \n",
       "12876_4#35.cram  /seq/12876/12876_4#35.cram  ILB_1126-PF-LAB-FAIRHURST   \n",
       "12876_4#29.cram  /seq/12876/12876_4#29.cram  ILB_1126-PF-LAB-FAIRHURST   \n",
       "12876_3#18.cram  /seq/12876/12876_3#18.cram  ILB_1126-PF-LAB-FAIRHURST   \n",
       "12876_3#15.cram  /seq/12876/12876_3#15.cram  ILB_1126-PF-LAB-FAIRHURST   \n",
       "12876_4#25.cram  /seq/12876/12876_4#25.cram  ILB_1126-PF-LAB-FAIRHURST   \n",
       "12876_2#4.cram    /seq/12876/12876_2#4.cram  ILB_1126-PF-LAB-FAIRHURST   \n",
       "\n",
       "                oxford_code ebi_run_acc ebi_sample_acc  \n",
       "irods_filename                                          \n",
       "12876_4#27.cram    PG0469-C   ERR570032           None  \n",
       "12876_4#28.cram    PG0469-C   ERR570033           None  \n",
       "12876_2#2.cram     PG0454-C   ERR570007           None  \n",
       "12876_3#13.cram    PG0454-C   ERR570018           None  \n",
       "12876_4#33.cram    PG0446-C   ERR570038           None  \n",
       "12876_2#5.cram     PG0446-C   ERR570010           None  \n",
       "12876_2#10.cram    PG0455-C   ERR570015           None  \n",
       "12876_3#14.cram    PG0455-C   ERR570019           None  \n",
       "12876_4#26.cram    PG0457-C   ERR570031           None  \n",
       "12876_3#16.cram    PG0457-C   ERR570021           None  \n",
       "12876_4#35.cram    PG0470-C   ERR570040           None  \n",
       "12876_4#29.cram    PG0470-C   ERR570034           None  \n",
       "12876_3#18.cram    PG0456-C   ERR570023           None  \n",
       "12876_3#15.cram    PG0456-C   ERR570020           None  \n",
       "12876_4#25.cram    PG0445-C   ERR570030           None  \n",
       "12876_2#4.cram     PG0445-C   ERR570009           None  "
      ]
     },
     "execution_count": 11,
     "metadata": {},
     "output_type": "execute_result"
    }
   ],
   "source": [
    "df_fits.loc[df_fits['oxford_code'].duplicated(False)]"
   ]
  },
  {
   "cell_type": "code",
   "execution_count": 12,
   "metadata": {
    "collapsed": false
   },
   "outputs": [
    {
     "data": {
      "text/plain": [
       "'PG0469-C, PG0454-C, PG0446-C, PG0455-C, PG0457-C, PG0470-C, PG0456-C, PG0445-C'"
      ]
     },
     "execution_count": 12,
     "metadata": {},
     "output_type": "execute_result"
    }
   ],
   "source": [
    "', '.join(df_fits.loc[df_fits['oxford_code'].duplicated(False), 'oxford_code'].unique().tolist())"
   ]
  },
  {
   "cell_type": "markdown",
   "metadata": {},
   "source": [
    "### Discrepancies for PG0469-C"
   ]
  },
  {
   "cell_type": "code",
   "execution_count": 13,
   "metadata": {
    "collapsed": false
   },
   "outputs": [
    {
     "name": "stdout",
     "output_type": "stream",
     "text": [
      "attribute: sample\n",
      "value: 3019STDY5769913\n",
      "attribute: sample_supplier_name\n",
      "value: PG0469-C\n",
      "attribute: total_reads\n",
      "value: 62354864\n"
     ]
    }
   ],
   "source": [
    "!imeta ls -d /seq/12876/12876_4#27.cram | grep -A 1 'sample$'\n",
    "!imeta ls -d /seq/12876/12876_4#27.cram | grep -A 1 'sample_supplier_name$'\n",
    "!imeta ls -d /seq/12876/12876_4#27.cram | grep -A 1 'total_reads$'"
   ]
  },
  {
   "cell_type": "code",
   "execution_count": 14,
   "metadata": {
    "collapsed": false
   },
   "outputs": [
    {
     "name": "stdout",
     "output_type": "stream",
     "text": [
      "attribute: sample\n",
      "value: 3019STDY5769913\n",
      "attribute: total_reads\n",
      "value: 90052\n"
     ]
    }
   ],
   "source": [
    "!imeta ls -d /seq/12876/12876_4#28.cram | grep -A 1 'sample$'\n",
    "!imeta ls -d /seq/12876/12876_4#28.cram | grep -A 1 'sample_supplier_name$'\n",
    "!imeta ls -d /seq/12876/12876_4#28.cram | grep -A 1 'total_reads$'"
   ]
  },
  {
   "cell_type": "markdown",
   "metadata": {},
   "source": [
    "### Discrepancies for PG0445-C"
   ]
  },
  {
   "cell_type": "code",
   "execution_count": 15,
   "metadata": {
    "collapsed": false
   },
   "outputs": [
    {
     "name": "stdout",
     "output_type": "stream",
     "text": [
      "attribute: sample\n",
      "value: 3019STDY5769889\n",
      "attribute: sample_supplier_name\n",
      "value: PG0445-C\n",
      "attribute: total_reads\n",
      "value: 61025274\n"
     ]
    }
   ],
   "source": [
    "!imeta ls -d /seq/12876/12876_4#25.cram | grep -A 1 'sample$'\n",
    "!imeta ls -d /seq/12876/12876_4#25.cram | grep -A 1 'sample_supplier_name$'\n",
    "!imeta ls -d /seq/12876/12876_4#25.cram | grep -A 1 'total_reads$'"
   ]
  },
  {
   "cell_type": "code",
   "execution_count": 16,
   "metadata": {
    "collapsed": false
   },
   "outputs": [
    {
     "name": "stdout",
     "output_type": "stream",
     "text": [
      "attribute: sample\n",
      "value: 3019STDY5769889\n",
      "attribute: total_reads\n",
      "value: 174416\n"
     ]
    }
   ],
   "source": [
    "!imeta ls -d /seq/12876/12876_2#4.cram | grep -A 1 'sample$'\n",
    "!imeta ls -d /seq/12876/12876_2#4.cram | grep -A 1 'sample_supplier_name$'\n",
    "!imeta ls -d /seq/12876/12876_2#4.cram | grep -A 1 'total_reads$'"
   ]
  },
  {
   "cell_type": "markdown",
   "metadata": {},
   "source": [
    "# Why doesn't my query against mlwh pull in these extra files?"
   ]
  },
  {
   "cell_type": "code",
   "execution_count": 17,
   "metadata": {
    "collapsed": true
   },
   "outputs": [],
   "source": [
    "conn = pymysql.connect(\n",
    "    host='mlwh-db',\n",
    "    user='mlwh_malaria',\n",
    "    password='Solaris&2015',\n",
    "    db='mlwarehouse',\n",
    "    port=3435\n",
    ")"
   ]
  },
  {
   "cell_type": "code",
   "execution_count": 18,
   "metadata": {
    "collapsed": false
   },
   "outputs": [
    {
     "data": {
      "text/html": [
       "<div>\n",
       "<style scoped>\n",
       "    .dataframe tbody tr th:only-of-type {\n",
       "        vertical-align: middle;\n",
       "    }\n",
       "\n",
       "    .dataframe tbody tr th {\n",
       "        vertical-align: top;\n",
       "    }\n",
       "\n",
       "    .dataframe thead th {\n",
       "        text-align: right;\n",
       "    }\n",
       "</style>\n",
       "<table border=\"1\" class=\"dataframe\">\n",
       "  <thead>\n",
       "    <tr style=\"text-align: right;\">\n",
       "      <th></th>\n",
       "      <th>id_iseq_flowcell_tmp</th>\n",
       "    </tr>\n",
       "  </thead>\n",
       "  <tbody>\n",
       "    <tr>\n",
       "      <th>0</th>\n",
       "      <td>2924788</td>\n",
       "    </tr>\n",
       "  </tbody>\n",
       "</table>\n",
       "</div>"
      ],
      "text/plain": [
       "   id_iseq_flowcell_tmp\n",
       "0               2924788"
      ]
     },
     "execution_count": 18,
     "metadata": {},
     "output_type": "execute_result"
    }
   ],
   "source": [
    "pd.read_sql('SELECT id_iseq_flowcell_tmp FROM iseq_product_metrics WHERE id_run=12876 AND position=4 AND tag_index=27;', conn)"
   ]
  },
  {
   "cell_type": "code",
   "execution_count": 19,
   "metadata": {
    "collapsed": false
   },
   "outputs": [
    {
     "data": {
      "text/html": [
       "<div>\n",
       "<style scoped>\n",
       "    .dataframe tbody tr th:only-of-type {\n",
       "        vertical-align: middle;\n",
       "    }\n",
       "\n",
       "    .dataframe tbody tr th {\n",
       "        vertical-align: top;\n",
       "    }\n",
       "\n",
       "    .dataframe thead th {\n",
       "        text-align: right;\n",
       "    }\n",
       "</style>\n",
       "<table border=\"1\" class=\"dataframe\">\n",
       "  <thead>\n",
       "    <tr style=\"text-align: right;\">\n",
       "      <th></th>\n",
       "      <th>id_iseq_flowcell_tmp</th>\n",
       "    </tr>\n",
       "  </thead>\n",
       "  <tbody>\n",
       "    <tr>\n",
       "      <th>0</th>\n",
       "      <td>None</td>\n",
       "    </tr>\n",
       "  </tbody>\n",
       "</table>\n",
       "</div>"
      ],
      "text/plain": [
       "  id_iseq_flowcell_tmp\n",
       "0                 None"
      ]
     },
     "execution_count": 19,
     "metadata": {},
     "output_type": "execute_result"
    }
   ],
   "source": [
    "pd.read_sql('SELECT id_iseq_flowcell_tmp FROM iseq_product_metrics WHERE id_run=12876 AND position=4 AND tag_index=28;', conn)"
   ]
  },
  {
   "cell_type": "markdown",
   "metadata": {},
   "source": [
    "# Conclusion\n",
    "FITS contains two files for 8 samples in study 1126-PF-LAB-FAIRHURST (PG0469-C, PG0454-C, PG0446-C, PG0455-C, PG0457-C, PG0470-C, PG0456-C, PG0445-C). It seems that in each case, the two files both have the same sequencescape sample ID, but only one of the files has a sample_supplier_name attached. It also appears to be the case that the files without the sample_supplier_name have far fewer reads and as such are unlikely to be useful even if they are actually from the same sample. The reasons my query against mlwh is not pulling in the second files for these samples is that iseq_product_metrics.id_iseq_flowcell_tmp is not populated for them.\n",
    "\n",
    "It is recommended that we do the following:\n",
    "- Talk to Sonia about following up with sequencing core to understand why the second file was given the same sequencescape ID, but not a sample_supplier_name\n",
    "- Determine how many other cases we have in FITS for which the supplier_sample_name is not populated\n",
    "- Make a decision on what we should do with such samples, e.g.\n",
    "    - Exclude entirely\n",
    "    - Keep in FITS but mark in some way\n",
    "    - Leave them as are\n",
    "- Determine and document a way to implement the above decision\n",
    "- Implement the decision\n",
    "\n",
    "A second issue is that sample_accessions are not being populated with the query above run against FITS. I'll create a separate issue to track this."
   ]
  },
  {
   "cell_type": "code",
   "execution_count": null,
   "metadata": {
    "collapsed": true
   },
   "outputs": [],
   "source": []
  }
 ],
 "metadata": {
  "kernelspec": {
   "display_name": "Python 3",
   "language": "python",
   "name": "python3"
  },
  "language_info": {
   "codemirror_mode": {
    "name": "ipython",
    "version": 3
   },
   "file_extension": ".py",
   "mimetype": "text/x-python",
   "name": "python",
   "nbconvert_exporter": "python",
   "pygments_lexer": "ipython3",
   "version": "3.5.2"
  }
 },
 "nbformat": 4,
 "nbformat_minor": 1
}
